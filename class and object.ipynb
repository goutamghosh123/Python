{
 "cells": [
  {
   "cell_type": "markdown",
   "metadata": {},
   "source": [
    "# class\n",
    "## class is a blueprint we can declare variable and functions"
   ]
  },
  {
   "cell_type": "code",
   "execution_count": 3,
   "metadata": {},
   "outputs": [],
   "source": [
    "# Without pass function you can't create class \n",
    "class Employee:   \n",
    "    pass"
   ]
  },
  {
   "cell_type": "code",
   "execution_count": 6,
   "metadata": {},
   "outputs": [
    {
     "name": "stdout",
     "output_type": "stream",
     "text": [
      "Goutam\n",
      "Goutam\n"
     ]
    }
   ],
   "source": [
    "class Employee:\n",
    "    name='Goutam'\n",
    "\n",
    "emp=Employee() # create instance or object\n",
    "print(emp.name) #1st way to access the variable and function through object\n",
    "print(Employee.name) # we can also acess classname.variablename by default class static\n"
   ]
  },
  {
   "cell_type": "markdown",
   "metadata": {},
   "source": [
    "\n",
    "### This is an constructor its used to initialize data once its initializ \n",
    "### we can acess  vriable anywhere inside the class.\n",
    "### Inside the class when you declare any constructor or function you have to pass one mandatory Argument that is self\n",
    "        \n",
    "\n",
    "                              "
   ]
  },
  {
   "cell_type": "code",
   "execution_count": 7,
   "metadata": {},
   "outputs": [
    {
     "name": "stdout",
     "output_type": "stream",
     "text": [
      "welcome mr Goutam\n"
     ]
    }
   ],
   "source": [
    "class Employee:\n",
    "    def __init__(self,name):                                \n",
    "        self.name=name\n",
    "    def fun(self):\n",
    "        print(\"welcome mr %s\"%(self.name))\n",
    "        \n",
    "emp=Employee('Goutam')\n",
    "emp.fun()"
   ]
  },
  {
   "cell_type": "code",
   "execution_count": 18,
   "metadata": {},
   "outputs": [
    {
     "name": "stdout",
     "output_type": "stream",
     "text": [
      "employee name is : Goutam\n",
      "employee age is : 24\n",
      "Employee sal is : 95k\n",
      "Goutam\n",
      "employee name is : ghosh\n",
      "employee age is : 24\n",
      "Employee sal is : 95k\n",
      "After delete :\n",
      "ghosh\n",
      "employee name is : VIVEK\n",
      "employee age is : 25\n",
      "Employee sal is : 45k\n"
     ]
    },
    {
     "ename": "NameError",
     "evalue": "name 'emp1' is not defined",
     "output_type": "error",
     "traceback": [
      "\u001b[1;31m---------------------------------------------------------------------------\u001b[0m",
      "\u001b[1;31mNameError\u001b[0m                                 Traceback (most recent call last)",
      "\u001b[1;32m<ipython-input-18-8918505f4565>\u001b[0m in \u001b[0;36m<module>\u001b[1;34m\u001b[0m\n\u001b[0;32m     28\u001b[0m \u001b[1;33m\u001b[0m\u001b[0m\n\u001b[0;32m     29\u001b[0m \u001b[1;32mdel\u001b[0m \u001b[0memp1\u001b[0m\u001b[1;33m\u001b[0m\u001b[1;33m\u001b[0m\u001b[0m\n\u001b[1;32m---> 30\u001b[1;33m \u001b[0memp1\u001b[0m\u001b[1;33m.\u001b[0m\u001b[0mfun\u001b[0m\u001b[1;33m(\u001b[0m\u001b[1;33m)\u001b[0m\u001b[1;33m\u001b[0m\u001b[1;33m\u001b[0m\u001b[0m\n\u001b[0m\u001b[0;32m     31\u001b[0m \u001b[1;33m\u001b[0m\u001b[0m\n\u001b[0;32m     32\u001b[0m \u001b[1;33m\u001b[0m\u001b[0m\n",
      "\u001b[1;31mNameError\u001b[0m: name 'emp1' is not defined"
     ]
    }
   ],
   "source": [
    "#constructor with many argument\n",
    "class Employee:\n",
    "    def __init__(self,n,a,sal):\n",
    "        self.n=n\n",
    "        self.a=a\n",
    "        self.sal=sal\n",
    "    def fun(self):\n",
    "        print(\"employee name is :\",self.n)\n",
    "        print(\"employee age is :\",self.a)\n",
    "        print(\"Employee sal is :\",self.sal)\n",
    "        \n",
    "emp=Employee(\"Goutam\",24,\"95k\")\n",
    "emp.fun()\n",
    "print(emp.n)\n",
    "# Modify\n",
    "emp.n=\"ghosh\"\n",
    "emp.fun()\n",
    "# delete variable\n",
    "del emp.a\n",
    "print(\"After delete :\")\n",
    "print(emp.n)\n",
    "print(emp.a) #------>Show Error\n",
    "\n",
    "#Create another object\n",
    "emp1=Employee(\"VIVEK\",25,\"45k\")\n",
    "emp1.fun()\n",
    "\n",
    "#Del instance\n",
    "\n",
    "del emp1\n",
    "emp1.fun() #------------->Show error\n",
    "    \n",
    "    "
   ]
  },
  {
   "cell_type": "markdown",
   "metadata": {},
   "source": [
    "# Inheritance\n",
    " "
   ]
  },
  {
   "cell_type": "markdown",
   "metadata": {},
   "source": [
    "Taking the properties of one class(Parent class) copy it and pass it to the another class(Child class)  is called inheritance"
   ]
  },
  {
   "cell_type": "code",
   "execution_count": 34,
   "metadata": {},
   "outputs": [
    {
     "name": "stdout",
     "output_type": "stream",
     "text": [
      "This is parent class\n",
      "----------------------------\n",
      "call parent class from child class \n",
      "This is parent class\n"
     ]
    }
   ],
   "source": [
    "#Inheritance 1\n",
    "\n",
    "class Employee:\n",
    "    def fun(self):\n",
    "         print(\"This is parent class\")\n",
    "    \n",
    "class Department(Employee):    #Empty class\n",
    "    pass\n",
    "\n",
    "\n",
    "#object create and call the function\n",
    "\n",
    "emp=Employee()\n",
    "emp.fun()\n",
    "\n",
    "print(\"----------------------------\")\n",
    "print(\"call parent class from child class \")\n",
    "\n",
    "\n",
    "dep=Department()\n",
    "dep.fun()\n"
   ]
  },
  {
   "cell_type": "code",
   "execution_count": 38,
   "metadata": {},
   "outputs": [
    {
     "name": "stdout",
     "output_type": "stream",
     "text": [
      "name =  GOUTAM Age =  23 salary =  45k\n",
      "Child class\n",
      "name =  Goutam Age =  25 salary =  87k Exp= 3\n"
     ]
    }
   ],
   "source": [
    "# Inheritance with a function\n",
    "#method overriding\n",
    "\n",
    "class Employee:\n",
    "    def __init__(self,name,age,sal):\n",
    "        self.name=name\n",
    "        self.age=age\n",
    "        self.sal=sal\n",
    "    def fun(self):  # Existing method\n",
    "        print(\"name = \",self.name,\"Age = \",self.age,\"salary = \",self.sal)\n",
    "class Department(Employee):\n",
    "    def __init__(self,name,age,sal,exp):\n",
    "        Employee.__init__(self,name,age,sal)\n",
    "        self.exp=exp\n",
    "\n",
    "    def fun(self):     # Update method \n",
    "        print(\"name = \",self.name,\"Age = \",self.age,\"salary = \",self.sal,\"Exp=\",self.exp)\n",
    "\n",
    "\n",
    "\n",
    "emp=Employee(\"GOUTAM\",23,\"45k\")\n",
    "emp.fun()\n",
    "\n",
    "print(\"Child class\")\n",
    "\n",
    "dept=Department(\"Goutam\",25,\"87k\",3)\n",
    "dept.fun()\n",
    "        \n",
    "\n"
   ]
  },
  {
   "cell_type": "code",
   "execution_count": null,
   "metadata": {},
   "outputs": [],
   "source": []
  }
 ],
 "metadata": {
  "kernelspec": {
   "display_name": "Python 3",
   "language": "python",
   "name": "python3"
  },
  "language_info": {
   "codemirror_mode": {
    "name": "ipython",
    "version": 3
   },
   "file_extension": ".py",
   "mimetype": "text/x-python",
   "name": "python",
   "nbconvert_exporter": "python",
   "pygments_lexer": "ipython3",
   "version": "3.7.3"
  }
 },
 "nbformat": 4,
 "nbformat_minor": 2
}
